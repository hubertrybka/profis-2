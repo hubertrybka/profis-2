{
 "cells": [
  {
   "cell_type": "code",
   "id": "initial_id",
   "metadata": {
    "collapsed": true,
    "ExecuteTime": {
     "end_time": "2024-11-07T15:53:22.737039Z",
     "start_time": "2024-11-07T15:53:20.930034Z"
    }
   },
   "source": [
    "import pandas as pd\n",
    "\n",
    "df = pd.read_parquet('data/RNN_dataset_ECFP_val_10.parquet')"
   ],
   "outputs": [],
   "execution_count": 2
  },
  {
   "metadata": {
    "ExecuteTime": {
     "end_time": "2024-11-07T15:53:23.396130Z",
     "start_time": "2024-11-07T15:53:23.346499Z"
    }
   },
   "cell_type": "code",
   "source": "df.head()",
   "id": "84d3cbfa825b2933",
   "outputs": [
    {
     "data": {
      "text/plain": [
       "                                            smiles  \\\n",
       "index                                                \n",
       "6                           OCCNCCCOc1ccc(Cl)cc1Br   \n",
       "9      NC(C(=O)O)C(NS(=O)(=O)c1ccc(F)c(F)c1)C(=O)O   \n",
       "10          Cc1c(O)c(=O)ccn1-c1ccc(OC(=O)N(C)C)cc1   \n",
       "25       COC(=O)C1(c2cccc(OCc3ccccc3)c2)CC1C(=O)NO   \n",
       "26                  CN1C(=O)C(=Cc2ccc(Cl)cc2)SC1=S   \n",
       "\n",
       "                                                     fps  \n",
       "index                                                     \n",
       "6      [13, 58, 80, 94, 165, 216, 222, 437, 473, 490,...  \n",
       "9      [1, 198, 216, 270, 319, 350, 389, 475, 502, 53...  \n",
       "10     [116, 202, 233, 314, 322, 339, 402, 564, 650, ...  \n",
       "25     [80, 107, 120, 322, 389, 506, 556, 557, 562, 5...  \n",
       "26     [25, 97, 215, 216, 273, 281, 314, 561, 631, 65...  "
      ],
      "text/html": [
       "<div>\n",
       "<style scoped>\n",
       "    .dataframe tbody tr th:only-of-type {\n",
       "        vertical-align: middle;\n",
       "    }\n",
       "\n",
       "    .dataframe tbody tr th {\n",
       "        vertical-align: top;\n",
       "    }\n",
       "\n",
       "    .dataframe thead th {\n",
       "        text-align: right;\n",
       "    }\n",
       "</style>\n",
       "<table border=\"1\" class=\"dataframe\">\n",
       "  <thead>\n",
       "    <tr style=\"text-align: right;\">\n",
       "      <th></th>\n",
       "      <th>smiles</th>\n",
       "      <th>fps</th>\n",
       "    </tr>\n",
       "    <tr>\n",
       "      <th>index</th>\n",
       "      <th></th>\n",
       "      <th></th>\n",
       "    </tr>\n",
       "  </thead>\n",
       "  <tbody>\n",
       "    <tr>\n",
       "      <th>6</th>\n",
       "      <td>OCCNCCCOc1ccc(Cl)cc1Br</td>\n",
       "      <td>[13, 58, 80, 94, 165, 216, 222, 437, 473, 490,...</td>\n",
       "    </tr>\n",
       "    <tr>\n",
       "      <th>9</th>\n",
       "      <td>NC(C(=O)O)C(NS(=O)(=O)c1ccc(F)c(F)c1)C(=O)O</td>\n",
       "      <td>[1, 198, 216, 270, 319, 350, 389, 475, 502, 53...</td>\n",
       "    </tr>\n",
       "    <tr>\n",
       "      <th>10</th>\n",
       "      <td>Cc1c(O)c(=O)ccn1-c1ccc(OC(=O)N(C)C)cc1</td>\n",
       "      <td>[116, 202, 233, 314, 322, 339, 402, 564, 650, ...</td>\n",
       "    </tr>\n",
       "    <tr>\n",
       "      <th>25</th>\n",
       "      <td>COC(=O)C1(c2cccc(OCc3ccccc3)c2)CC1C(=O)NO</td>\n",
       "      <td>[80, 107, 120, 322, 389, 506, 556, 557, 562, 5...</td>\n",
       "    </tr>\n",
       "    <tr>\n",
       "      <th>26</th>\n",
       "      <td>CN1C(=O)C(=Cc2ccc(Cl)cc2)SC1=S</td>\n",
       "      <td>[25, 97, 215, 216, 273, 281, 314, 561, 631, 65...</td>\n",
       "    </tr>\n",
       "  </tbody>\n",
       "</table>\n",
       "</div>"
      ]
     },
     "execution_count": 3,
     "metadata": {},
     "output_type": "execute_result"
    }
   ],
   "execution_count": 3
  },
  {
   "metadata": {},
   "cell_type": "code",
   "outputs": [],
   "execution_count": null,
   "source": "",
   "id": "b330955f5a874ee5"
  }
 ],
 "metadata": {
  "kernelspec": {
   "display_name": "Python 3",
   "language": "python",
   "name": "python3"
  },
  "language_info": {
   "codemirror_mode": {
    "name": "ipython",
    "version": 2
   },
   "file_extension": ".py",
   "mimetype": "text/x-python",
   "name": "python",
   "nbconvert_exporter": "python",
   "pygments_lexer": "ipython2",
   "version": "2.7.6"
  }
 },
 "nbformat": 4,
 "nbformat_minor": 5
}
