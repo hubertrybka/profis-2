{
 "cells": [
  {
   "cell_type": "code",
   "id": "initial_id",
   "metadata": {
    "collapsed": true,
    "ExecuteTime": {
     "end_time": "2024-12-18T14:47:17.546781Z",
     "start_time": "2024-12-18T14:47:17.540389Z"
    }
   },
   "source": [
    "import json\n",
    "with open('../models/eps1_dropout_ECFP/aggregated_posterior.json', 'r') as f:\n",
    "    data = json.load(f)"
   ],
   "outputs": [],
   "execution_count": 36
  },
  {
   "metadata": {
    "ExecuteTime": {
     "end_time": "2024-12-18T14:48:10.246542Z",
     "start_time": "2024-12-18T14:48:10.169148Z"
    }
   },
   "cell_type": "code",
   "source": [
    "# draw 10000 random samples from the latent space\n",
    "\n",
    "import numpy as np\n",
    "\n",
    "mus = np.array(data['mean'])\n",
    "stds = np.array(data['std'])\n",
    "\n",
    "samples = np.random.normal(mus, stds, (10000, 32))"
   ],
   "id": "3951a1aeffea38e9",
   "outputs": [],
   "execution_count": 43
  },
  {
   "metadata": {
    "ExecuteTime": {
     "end_time": "2024-12-18T14:48:11.033369Z",
     "start_time": "2024-12-18T14:48:10.741554Z"
    }
   },
   "cell_type": "code",
   "source": [
    "import pandas as pd\n",
    "\n",
    "# calculate the norm of the samples\n",
    "\n",
    "norms_random = np.linalg.norm(samples, axis=1)\n",
    "random_df = pd.DataFrame(norms_random, columns=['norm'])\n",
    "random_df['label'] = 'random'\n",
    "\n",
    "# read the norms of bayesian search results\n",
    "\n",
    "df = pd.read_csv('../results/latent_vectors_20241217_173316/latent_vectors.csv')\n",
    "df = df[['norm']]\n",
    "df['label'] = 'PROFIS'\n",
    "\n",
    "plot_df = pd.concat([random_df, df])"
   ],
   "id": "6fb0da1cb5d76b58",
   "outputs": [],
   "execution_count": 44
  },
  {
   "metadata": {
    "ExecuteTime": {
     "end_time": "2024-12-18T14:48:11.619318Z",
     "start_time": "2024-12-18T14:48:11.595834Z"
    }
   },
   "cell_type": "code",
   "source": "df",
   "id": "292082b0c0f63d42",
   "outputs": [
    {
     "data": {
      "text/plain": [
       "           norm   label\n",
       "0     33.432358  PROFIS\n",
       "1     26.882786  PROFIS\n",
       "2     26.018826  PROFIS\n",
       "3     32.667935  PROFIS\n",
       "4     30.179904  PROFIS\n",
       "...         ...     ...\n",
       "9995  31.064064  PROFIS\n",
       "9996  32.946518  PROFIS\n",
       "9997  21.174103  PROFIS\n",
       "9998  31.564993  PROFIS\n",
       "9999  30.831507  PROFIS\n",
       "\n",
       "[10000 rows x 2 columns]"
      ],
      "text/html": [
       "<div>\n",
       "<style scoped>\n",
       "    .dataframe tbody tr th:only-of-type {\n",
       "        vertical-align: middle;\n",
       "    }\n",
       "\n",
       "    .dataframe tbody tr th {\n",
       "        vertical-align: top;\n",
       "    }\n",
       "\n",
       "    .dataframe thead th {\n",
       "        text-align: right;\n",
       "    }\n",
       "</style>\n",
       "<table border=\"1\" class=\"dataframe\">\n",
       "  <thead>\n",
       "    <tr style=\"text-align: right;\">\n",
       "      <th></th>\n",
       "      <th>norm</th>\n",
       "      <th>label</th>\n",
       "    </tr>\n",
       "  </thead>\n",
       "  <tbody>\n",
       "    <tr>\n",
       "      <th>0</th>\n",
       "      <td>33.432358</td>\n",
       "      <td>PROFIS</td>\n",
       "    </tr>\n",
       "    <tr>\n",
       "      <th>1</th>\n",
       "      <td>26.882786</td>\n",
       "      <td>PROFIS</td>\n",
       "    </tr>\n",
       "    <tr>\n",
       "      <th>2</th>\n",
       "      <td>26.018826</td>\n",
       "      <td>PROFIS</td>\n",
       "    </tr>\n",
       "    <tr>\n",
       "      <th>3</th>\n",
       "      <td>32.667935</td>\n",
       "      <td>PROFIS</td>\n",
       "    </tr>\n",
       "    <tr>\n",
       "      <th>4</th>\n",
       "      <td>30.179904</td>\n",
       "      <td>PROFIS</td>\n",
       "    </tr>\n",
       "    <tr>\n",
       "      <th>...</th>\n",
       "      <td>...</td>\n",
       "      <td>...</td>\n",
       "    </tr>\n",
       "    <tr>\n",
       "      <th>9995</th>\n",
       "      <td>31.064064</td>\n",
       "      <td>PROFIS</td>\n",
       "    </tr>\n",
       "    <tr>\n",
       "      <th>9996</th>\n",
       "      <td>32.946518</td>\n",
       "      <td>PROFIS</td>\n",
       "    </tr>\n",
       "    <tr>\n",
       "      <th>9997</th>\n",
       "      <td>21.174103</td>\n",
       "      <td>PROFIS</td>\n",
       "    </tr>\n",
       "    <tr>\n",
       "      <th>9998</th>\n",
       "      <td>31.564993</td>\n",
       "      <td>PROFIS</td>\n",
       "    </tr>\n",
       "    <tr>\n",
       "      <th>9999</th>\n",
       "      <td>30.831507</td>\n",
       "      <td>PROFIS</td>\n",
       "    </tr>\n",
       "  </tbody>\n",
       "</table>\n",
       "<p>10000 rows × 2 columns</p>\n",
       "</div>"
      ]
     },
     "execution_count": 45,
     "metadata": {},
     "output_type": "execute_result"
    }
   ],
   "execution_count": 45
  },
  {
   "metadata": {
    "ExecuteTime": {
     "end_time": "2024-12-18T14:48:13.025566Z",
     "start_time": "2024-12-18T14:48:12.325698Z"
    }
   },
   "cell_type": "code",
   "source": [
    "# plot histograms of the norms\n",
    "\n",
    "import seaborn as sns\n",
    "import matplotlib.pyplot as plt\n",
    "\n",
    "sns.set_style('white')\n",
    "sns.set_context('talk')\n",
    "\n",
    "sns.histplot(plot_df, x='norm', hue='label', bins=15, color='hotpink')"
   ],
   "id": "1b335b5935d58bfc",
   "outputs": [
    {
     "name": "stderr",
     "output_type": "stream",
     "text": [
      "/home/hubert/miniconda3/envs/profis/lib/python3.11/site-packages/seaborn/_oldcore.py:1498: FutureWarning: is_categorical_dtype is deprecated and will be removed in a future version. Use isinstance(dtype, CategoricalDtype) instead\n",
      "  if pd.api.types.is_categorical_dtype(vector):\n",
      "/home/hubert/miniconda3/envs/profis/lib/python3.11/site-packages/seaborn/_oldcore.py:1498: FutureWarning: is_categorical_dtype is deprecated and will be removed in a future version. Use isinstance(dtype, CategoricalDtype) instead\n",
      "  if pd.api.types.is_categorical_dtype(vector):\n",
      "/home/hubert/miniconda3/envs/profis/lib/python3.11/site-packages/seaborn/_oldcore.py:1498: FutureWarning: is_categorical_dtype is deprecated and will be removed in a future version. Use isinstance(dtype, CategoricalDtype) instead\n",
      "  if pd.api.types.is_categorical_dtype(vector):\n",
      "/home/hubert/miniconda3/envs/profis/lib/python3.11/site-packages/seaborn/_oldcore.py:1498: FutureWarning: is_categorical_dtype is deprecated and will be removed in a future version. Use isinstance(dtype, CategoricalDtype) instead\n",
      "  if pd.api.types.is_categorical_dtype(vector):\n",
      "/home/hubert/miniconda3/envs/profis/lib/python3.11/site-packages/seaborn/_oldcore.py:1119: FutureWarning: use_inf_as_na option is deprecated and will be removed in a future version. Convert inf values to NaN before operating instead.\n",
      "  with pd.option_context('mode.use_inf_as_na', True):\n"
     ]
    },
    {
     "data": {
      "text/plain": [
       "<Axes: xlabel='norm', ylabel='Count'>"
      ]
     },
     "execution_count": 46,
     "metadata": {},
     "output_type": "execute_result"
    },
    {
     "data": {
      "text/plain": [
       "<Figure size 640x480 with 1 Axes>"
      ],
      "image/png": "[encoded data removed]"
     },
     "metadata": {},
     "output_type": "display_data"
    }
   ],
   "execution_count": 46
  },
  {
   "metadata": {
    "ExecuteTime": {
     "end_time": "2024-12-18T14:50:36.117901Z",
     "start_time": "2024-12-18T14:50:36.106276Z"
    }
   },
   "cell_type": "code",
   "source": [
    "# from a list means and stds, construct a vector which has the largest possible norm, given that you can add or subtract 2 stds from the mean\n",
    "\n",
    "vector = []\n",
    "for mu, std in zip(mus, stds):\n",
    "    if mu > 0:\n",
    "        vector.append(mu+2*std)\n",
    "    else:\n",
    "        vector.append(mu-2*std)\n",
    "vector = np.array(vector)"
   ],
   "id": "e85e1e2817d0c12c",
   "outputs": [],
   "execution_count": 48
  },
  {
   "metadata": {
    "ExecuteTime": {
     "end_time": "2024-12-18T14:50:36.487790Z",
     "start_time": "2024-12-18T14:50:36.483027Z"
    }
   },
   "cell_type": "code",
   "source": "norm = np.linalg.norm(vector)",
   "id": "d0d95ff97b64da3e",
   "outputs": [],
   "execution_count": 49
  },
  {
   "metadata": {
    "ExecuteTime": {
     "end_time": "2024-12-18T14:50:37.028333Z",
     "start_time": "2024-12-18T14:50:37.013954Z"
    }
   },
   "cell_type": "code",
   "source": "norm",
   "id": "749a00f7f65aa953",
   "outputs": [
    {
     "data": {
      "text/plain": [
       "45.335759865813905"
      ]
     },
     "execution_count": 50,
     "metadata": {},
     "output_type": "execute_result"
    }
   ],
   "execution_count": 50
  },
  {
   "metadata": {},
   "cell_type": "code",
   "outputs": [],
   "execution_count": null,
   "source": "",
   "id": "264ad2ccb1d65ea2"
  }
 ],
 "metadata": {
  "kernelspec": {
   "display_name": "Python 3",
   "language": "python",
   "name": "python3"
  },
  "language_info": {
   "codemirror_mode": {
    "name": "ipython",
    "version": 2
   },
   "file_extension": ".py",
   "mimetype": "text/x-python",
   "name": "python",
   "nbconvert_exporter": "python",
   "pygments_lexer": "ipython2",
   "version": "2.7.6"
  }
 },
 "nbformat": 4,
 "nbformat_minor": 5
}
