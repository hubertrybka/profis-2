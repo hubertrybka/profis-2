{
 "cells": [
  {
   "cell_type": "code",
   "id": "initial_id",
   "metadata": {
    "collapsed": true,
    "ExecuteTime": {
     "end_time": "2024-12-18T13:24:44.032160Z",
     "start_time": "2024-12-18T13:24:44.029415Z"
    }
   },
   "source": [
    "import pandas as pd\n",
    "import rdkit.Chem as Chem\n",
    "import rdkit.Chem.Scaffolds.MurckoScaffold as MurckoScaffold"
   ],
   "outputs": [],
   "execution_count": 157
  },
  {
   "metadata": {
    "ExecuteTime": {
     "end_time": "2024-12-18T13:24:46.618781Z",
     "start_time": "2024-12-18T13:24:44.213558Z"
    }
   },
   "cell_type": "code",
   "source": [
    "# get murcko scaffolds of the D2 training set\n",
    "\n",
    "df = pd.read_parquet('../data/d2_ECFP_100nM.parquet')\n",
    "mols = df['smiles'].apply(lambda x: Chem.MolFromSmiles(x))\n",
    "mols_scaffolds = [MurckoScaffold.GetScaffoldForMol(mol) for mol in mols]\n",
    "\n",
    "# calculate morgan fingerprints of the D2 training set scaffolds\n",
    "\n",
    "from rdkit.Chem import AllChem\n",
    "import numpy as np\n",
    "\n",
    "fps_train = [AllChem.GetMorganFingerprintAsBitVect(mol, 2, nBits=512) for mol in mols_scaffolds]"
   ],
   "id": "763bd7f44f397ec4",
   "outputs": [],
   "execution_count": 158
  },
  {
   "metadata": {
    "ExecuteTime": {
     "end_time": "2024-12-18T13:45:42.153575Z",
     "start_time": "2024-12-18T13:45:42.145686Z"
    }
   },
   "cell_type": "code",
   "source": [
    "# read the predictions\n",
    "\n",
    "df = pd.read_csv('../results/latent_vectors_20241217_173316/preds_20241218-131752/predictions.csv')\n",
    "df.head()"
   ],
   "id": "b9ef5c5c07882482",
   "outputs": [
    {
     "data": {
      "text/plain": [
       "   idx                                     smiles  largest_ring  num_rings  \\\n",
       "0   53       Nc1cc(C(=O)O)ccc1C(=O)c1ccccc1C(=O)O             6          2   \n",
       "1  120                  Oc1c(OCCc2cccc(F)c2)ncnn1             6          2   \n",
       "2  132       CCn1c(SC(C)=O)nc2nc(OC)c(OC)c(OC)c21             6          2   \n",
       "3  162      CC(C)(C)c1cccc(NC(=O)Nc2ccc(OC)cc2)c1             6          2   \n",
       "4  216  O=C(O)CCOc1cc(I)ccc1Oc1cc2ccc(I)cc2c(O)n1             6          3   \n",
       "\n",
       "        qed      mol_wt  num_HBA  num_HBD    logP  num_rotatable_bonds  \\\n",
       "0  0.582924  285.063722        4        3  1.8962                    4   \n",
       "1  0.865551  235.075705        5        1  1.3378                    4   \n",
       "2  0.782740  311.093977        8        0  2.1156                    5   \n",
       "3  0.867157  298.168128        2        2  4.6367                    3   \n",
       "4  0.410099  576.888319        5        2  4.7954                    6   \n",
       "\n",
       "     tpsa  bridgehead_atoms  spiro_atoms  novelty_score  \\\n",
       "0  117.69                 0            0       0.692308   \n",
       "1   68.13                 0            0       0.586957   \n",
       "2   75.47                 0            0       0.723077   \n",
       "3   50.36                 0            0       0.645161   \n",
       "4   88.88                 0            0       0.756410   \n",
       "\n",
       "                                    closest_in_train  \n",
       "0  Cc1ccc(S(=O)(=O)Nc2ccc3c(c2)CCN(Cc2cc[nH]n2)CC...  \n",
       "1             Cc1ccc(N2CCN(CC3CC3c3ccccc3)CC2)c(C)c1  \n",
       "2  CC(NC(=O)CCCCCN1CCN(c2ccccc2-c2ccccc2)CC1)c1cc...  \n",
       "3                          CC(C)NCC(O)c1ccc(O)c(O)c1  \n",
       "4  O=C(NC1CCC(CCN2CCC(c3coc4ccccc34)CC2)CC1)C(O)C...  "
      ],
      "text/html": [
       "<div>\n",
       "<style scoped>\n",
       "    .dataframe tbody tr th:only-of-type {\n",
       "        vertical-align: middle;\n",
       "    }\n",
       "\n",
       "    .dataframe tbody tr th {\n",
       "        vertical-align: top;\n",
       "    }\n",
       "\n",
       "    .dataframe thead th {\n",
       "        text-align: right;\n",
       "    }\n",
       "</style>\n",
       "<table border=\"1\" class=\"dataframe\">\n",
       "  <thead>\n",
       "    <tr style=\"text-align: right;\">\n",
       "      <th></th>\n",
       "      <th>idx</th>\n",
       "      <th>smiles</th>\n",
       "      <th>largest_ring</th>\n",
       "      <th>num_rings</th>\n",
       "      <th>qed</th>\n",
       "      <th>mol_wt</th>\n",
       "      <th>num_HBA</th>\n",
       "      <th>num_HBD</th>\n",
       "      <th>logP</th>\n",
       "      <th>num_rotatable_bonds</th>\n",
       "      <th>tpsa</th>\n",
       "      <th>bridgehead_atoms</th>\n",
       "      <th>spiro_atoms</th>\n",
       "      <th>novelty_score</th>\n",
       "      <th>closest_in_train</th>\n",
       "    </tr>\n",
       "  </thead>\n",
       "  <tbody>\n",
       "    <tr>\n",
       "      <th>0</th>\n",
       "      <td>53</td>\n",
       "      <td>Nc1cc(C(=O)O)ccc1C(=O)c1ccccc1C(=O)O</td>\n",
       "      <td>6</td>\n",
       "      <td>2</td>\n",
       "      <td>0.582924</td>\n",
       "      <td>285.063722</td>\n",
       "      <td>4</td>\n",
       "      <td>3</td>\n",
       "      <td>1.8962</td>\n",
       "      <td>4</td>\n",
       "      <td>117.69</td>\n",
       "      <td>0</td>\n",
       "      <td>0</td>\n",
       "      <td>0.692308</td>\n",
       "      <td>Cc1ccc(S(=O)(=O)Nc2ccc3c(c2)CCN(Cc2cc[nH]n2)CC...</td>\n",
       "    </tr>\n",
       "    <tr>\n",
       "      <th>1</th>\n",
       "      <td>120</td>\n",
       "      <td>Oc1c(OCCc2cccc(F)c2)ncnn1</td>\n",
       "      <td>6</td>\n",
       "      <td>2</td>\n",
       "      <td>0.865551</td>\n",
       "      <td>235.075705</td>\n",
       "      <td>5</td>\n",
       "      <td>1</td>\n",
       "      <td>1.3378</td>\n",
       "      <td>4</td>\n",
       "      <td>68.13</td>\n",
       "      <td>0</td>\n",
       "      <td>0</td>\n",
       "      <td>0.586957</td>\n",
       "      <td>Cc1ccc(N2CCN(CC3CC3c3ccccc3)CC2)c(C)c1</td>\n",
       "    </tr>\n",
       "    <tr>\n",
       "      <th>2</th>\n",
       "      <td>132</td>\n",
       "      <td>CCn1c(SC(C)=O)nc2nc(OC)c(OC)c(OC)c21</td>\n",
       "      <td>6</td>\n",
       "      <td>2</td>\n",
       "      <td>0.782740</td>\n",
       "      <td>311.093977</td>\n",
       "      <td>8</td>\n",
       "      <td>0</td>\n",
       "      <td>2.1156</td>\n",
       "      <td>5</td>\n",
       "      <td>75.47</td>\n",
       "      <td>0</td>\n",
       "      <td>0</td>\n",
       "      <td>0.723077</td>\n",
       "      <td>CC(NC(=O)CCCCCN1CCN(c2ccccc2-c2ccccc2)CC1)c1cc...</td>\n",
       "    </tr>\n",
       "    <tr>\n",
       "      <th>3</th>\n",
       "      <td>162</td>\n",
       "      <td>CC(C)(C)c1cccc(NC(=O)Nc2ccc(OC)cc2)c1</td>\n",
       "      <td>6</td>\n",
       "      <td>2</td>\n",
       "      <td>0.867157</td>\n",
       "      <td>298.168128</td>\n",
       "      <td>2</td>\n",
       "      <td>2</td>\n",
       "      <td>4.6367</td>\n",
       "      <td>3</td>\n",
       "      <td>50.36</td>\n",
       "      <td>0</td>\n",
       "      <td>0</td>\n",
       "      <td>0.645161</td>\n",
       "      <td>CC(C)NCC(O)c1ccc(O)c(O)c1</td>\n",
       "    </tr>\n",
       "    <tr>\n",
       "      <th>4</th>\n",
       "      <td>216</td>\n",
       "      <td>O=C(O)CCOc1cc(I)ccc1Oc1cc2ccc(I)cc2c(O)n1</td>\n",
       "      <td>6</td>\n",
       "      <td>3</td>\n",
       "      <td>0.410099</td>\n",
       "      <td>576.888319</td>\n",
       "      <td>5</td>\n",
       "      <td>2</td>\n",
       "      <td>4.7954</td>\n",
       "      <td>6</td>\n",
       "      <td>88.88</td>\n",
       "      <td>0</td>\n",
       "      <td>0</td>\n",
       "      <td>0.756410</td>\n",
       "      <td>O=C(NC1CCC(CCN2CCC(c3coc4ccccc34)CC2)CC1)C(O)C...</td>\n",
       "    </tr>\n",
       "  </tbody>\n",
       "</table>\n",
       "</div>"
      ]
     },
     "execution_count": 201,
     "metadata": {},
     "output_type": "execute_result"
    }
   ],
   "execution_count": 201
  },
  {
   "metadata": {
    "ExecuteTime": {
     "end_time": "2024-12-18T13:45:43.081015Z",
     "start_time": "2024-12-18T13:45:42.915153Z"
    }
   },
   "cell_type": "code",
   "source": [
    "# get mols of the predictions and the closest molecule in the training set\n",
    "\n",
    "mols_preds = df['smiles'].apply(lambda x: Chem.MolFromSmiles(x))\n",
    "mols_train = df['closest_in_train'].apply(lambda x: Chem.MolFromSmiles(x))\n",
    "\n",
    "# get Murcko scaffolds of the molecules\n",
    "\n",
    "mols_preds_scaffolds = [MurckoScaffold.GetScaffoldForMol(mol) for mol in mols_preds]\n",
    "mols_train_scaffolds = [MurckoScaffold.GetScaffoldForMol(mol) for mol in mols_train]\n",
    "\n",
    "# calculate morgan fingerprints of the scaffolds\n",
    "\n",
    "fps_preds = [AllChem.GetMorganFingerprintAsBitVect(mol, 2, nBits=512) for mol in mols_preds_scaffolds]"
   ],
   "id": "eab099089db43d1",
   "outputs": [],
   "execution_count": 202
  },
  {
   "metadata": {
    "ExecuteTime": {
     "end_time": "2024-12-18T13:45:47.881553Z",
     "start_time": "2024-12-18T13:45:43.676964Z"
    }
   },
   "cell_type": "code",
   "source": [
    "# calculate Tanimoto similarity between the predictions and the training set\n",
    "\n",
    "from rdkit import DataStructs\n",
    "\n",
    "idxs = []\n",
    "scores = []\n",
    "for i, fp_pred in enumerate(fps_preds):\n",
    "    similarities = [DataStructs.TanimotoSimilarity(fp_pred, fp) for fp in fps_train]\n",
    "    idx = np.argmax(similarities)\n",
    "    idxs.append(idx)\n",
    "    scores.append(similarities[idx])\n",
    "novelty_score = 1 - np.array(scores)\n",
    "closest_scaffolds = [mols_scaffolds[idx] for idx in idxs]"
   ],
   "id": "40138b480b532f11",
   "outputs": [],
   "execution_count": 203
  },
  {
   "metadata": {
    "ExecuteTime": {
     "end_time": "2024-12-18T13:45:48.505655Z",
     "start_time": "2024-12-18T13:45:48.500565Z"
    }
   },
   "cell_type": "code",
   "source": [
    "# plot histogram of novelty scores\n",
    "\n",
    "scaffolds_df = pd.DataFrame({'scaffold_pred': mols_preds_scaffolds, 'scaffold_train': closest_scaffolds, 'novelty_score': novelty_score})\n",
    "scaffolds_df.head()"
   ],
   "id": "b6570c5513141179",
   "outputs": [
    {
     "data": {
      "text/plain": [
       "                                      scaffold_pred  \\\n",
       "0  <rdkit.Chem.rdchem.Mol object at 0x7bce7b5fe500>   \n",
       "1  <rdkit.Chem.rdchem.Mol object at 0x7bce7b5fe490>   \n",
       "2  <rdkit.Chem.rdchem.Mol object at 0x7bce7b5fe570>   \n",
       "3  <rdkit.Chem.rdchem.Mol object at 0x7bce7b5fe5e0>   \n",
       "4  <rdkit.Chem.rdchem.Mol object at 0x7bce7b5fe650>   \n",
       "\n",
       "                                     scaffold_train  novelty_score  \n",
       "0  <rdkit.Chem.rdchem.Mol object at 0x7bce7a9f6880>       0.535714  \n",
       "1  <rdkit.Chem.rdchem.Mol object at 0x7bce7a9c5b60>       0.615385  \n",
       "2  <rdkit.Chem.rdchem.Mol object at 0x7bce7a9b9690>       0.717391  \n",
       "3  <rdkit.Chem.rdchem.Mol object at 0x7bce7aa65a80>       0.529412  \n",
       "4  <rdkit.Chem.rdchem.Mol object at 0x7bce78e0ceb0>       0.709091  "
      ],
      "text/html": [
       "<div>\n",
       "<style scoped>\n",
       "    .dataframe tbody tr th:only-of-type {\n",
       "        vertical-align: middle;\n",
       "    }\n",
       "\n",
       "    .dataframe tbody tr th {\n",
       "        vertical-align: top;\n",
       "    }\n",
       "\n",
       "    .dataframe thead th {\n",
       "        text-align: right;\n",
       "    }\n",
       "</style>\n",
       "<table border=\"1\" class=\"dataframe\">\n",
       "  <thead>\n",
       "    <tr style=\"text-align: right;\">\n",
       "      <th></th>\n",
       "      <th>scaffold_pred</th>\n",
       "      <th>scaffold_train</th>\n",
       "      <th>novelty_score</th>\n",
       "    </tr>\n",
       "  </thead>\n",
       "  <tbody>\n",
       "    <tr>\n",
       "      <th>0</th>\n",
       "      <td>&lt;rdkit.Chem.rdchem.Mol object at 0x7bce7b5fe500&gt;</td>\n",
       "      <td>&lt;rdkit.Chem.rdchem.Mol object at 0x7bce7a9f6880&gt;</td>\n",
       "      <td>0.535714</td>\n",
       "    </tr>\n",
       "    <tr>\n",
       "      <th>1</th>\n",
       "      <td>&lt;rdkit.Chem.rdchem.Mol object at 0x7bce7b5fe490&gt;</td>\n",
       "      <td>&lt;rdkit.Chem.rdchem.Mol object at 0x7bce7a9c5b60&gt;</td>\n",
       "      <td>0.615385</td>\n",
       "    </tr>\n",
       "    <tr>\n",
       "      <th>2</th>\n",
       "      <td>&lt;rdkit.Chem.rdchem.Mol object at 0x7bce7b5fe570&gt;</td>\n",
       "      <td>&lt;rdkit.Chem.rdchem.Mol object at 0x7bce7a9b9690&gt;</td>\n",
       "      <td>0.717391</td>\n",
       "    </tr>\n",
       "    <tr>\n",
       "      <th>3</th>\n",
       "      <td>&lt;rdkit.Chem.rdchem.Mol object at 0x7bce7b5fe5e0&gt;</td>\n",
       "      <td>&lt;rdkit.Chem.rdchem.Mol object at 0x7bce7aa65a80&gt;</td>\n",
       "      <td>0.529412</td>\n",
       "    </tr>\n",
       "    <tr>\n",
       "      <th>4</th>\n",
       "      <td>&lt;rdkit.Chem.rdchem.Mol object at 0x7bce7b5fe650&gt;</td>\n",
       "      <td>&lt;rdkit.Chem.rdchem.Mol object at 0x7bce78e0ceb0&gt;</td>\n",
       "      <td>0.709091</td>\n",
       "    </tr>\n",
       "  </tbody>\n",
       "</table>\n",
       "</div>"
      ]
     },
     "execution_count": 204,
     "metadata": {},
     "output_type": "execute_result"
    }
   ],
   "execution_count": 204
  },
  {
   "metadata": {
    "ExecuteTime": {
     "end_time": "2024-12-18T13:45:50.046557Z",
     "start_time": "2024-12-18T13:45:49.975792Z"
    }
   },
   "cell_type": "code",
   "source": [
    "import seaborn as sns\n",
    "\n",
    "sns.histplot(scaffolds_df['novelty_score'])"
   ],
   "id": "69337b96e14936f3",
   "outputs": [
    {
     "name": "stderr",
     "output_type": "stream",
     "text": [
      "/home/bmc/miniconda3/envs/profis/lib/python3.11/site-packages/seaborn/_oldcore.py:1498: FutureWarning: is_categorical_dtype is deprecated and will be removed in a future version. Use isinstance(dtype, CategoricalDtype) instead\n",
      "  if pd.api.types.is_categorical_dtype(vector):\n",
      "/home/bmc/miniconda3/envs/profis/lib/python3.11/site-packages/seaborn/_oldcore.py:1119: FutureWarning: use_inf_as_na option is deprecated and will be removed in a future version. Convert inf values to NaN before operating instead.\n",
      "  with pd.option_context('mode.use_inf_as_na', True):\n"
     ]
    },
    {
     "data": {
      "text/plain": [
       "<Axes: xlabel='novelty_score', ylabel='Count'>"
      ]
     },
     "execution_count": 205,
     "metadata": {},
     "output_type": "execute_result"
    },
    {
     "data": {
      "text/plain": [
       "<Figure size 640x480 with 1 Axes>"
      ],
      "image/png": "[encoded data removed]"
     },
     "metadata": {},
     "output_type": "display_data"
    }
   ],
   "execution_count": 205
  },
  {
   "metadata": {
    "ExecuteTime": {
     "end_time": "2024-12-18T13:46:43.014819Z",
     "start_time": "2024-12-18T13:46:43.008313Z"
    }
   },
   "cell_type": "code",
   "source": [
    "# draw pairs of scaffolds\n",
    "\n",
    "from rdkit.Chem import Draw\n",
    "\n",
    "i = 18\n",
    "\n",
    "Draw.MolsToGridImage([scaffolds_df['scaffold_pred'][i], scaffolds_df['scaffold_train'][i]], molsPerRow=2)"
   ],
   "id": "a45ab47feaa030e9",
   "outputs": [
    {
     "data": {
      "image/png": "[encoded data removed]",
      "text/plain": [
       "<IPython.core.display.Image object>"
      ]
     },
     "execution_count": 225,
     "metadata": {},
     "output_type": "execute_result"
    }
   ],
   "execution_count": 225
  },
  {
   "metadata": {},
   "cell_type": "code",
   "outputs": [],
   "execution_count": null,
   "source": "",
   "id": "7511398502d48aa0"
  }
 ],
 "metadata": {
  "kernelspec": {
   "display_name": "Python 3",
   "language": "python",
   "name": "python3"
  },
  "language_info": {
   "codemirror_mode": {
    "name": "ipython",
    "version": 2
   },
   "file_extension": ".py",
   "mimetype": "text/x-python",
   "name": "python",
   "nbconvert_exporter": "python",
   "pygments_lexer": "ipython2",
   "version": "2.7.6"
  }
 },
 "nbformat": 4,
 "nbformat_minor": 5
}
